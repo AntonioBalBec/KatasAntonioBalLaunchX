{
 "cells": [
  {
   "cell_type": "markdown",
   "metadata": {},
   "source": [
    "# Módulo 3 - Escribir declaraciones"
   ]
  },
  {
   "cell_type": "markdown",
   "metadata": {},
   "source": [
    "## Ejercicios: Uso de operadores \"and\" y \"or\""
   ]
  },
  {
   "cell_type": "markdown",
   "metadata": {},
   "source": [
    "### Ejercicio I"
   ]
  },
  {
   "cell_type": "markdown",
   "metadata": {},
   "source": [
    "#### Instrucciones: \n",
    "Añadir el código necesario para crear una variable que guarde la velocidad del asteroide.\n",
    "<p></p>\n",
    "Escribe una expresión de prueba para calcular si necesita una advertencia.\n",
    "<p></p>\n",
    "Agregue las instrucciones que se ejecutarán si la expresión de prueba es true o false.\n"
   ]
  },
  {
   "cell_type": "code",
   "execution_count": 2,
   "metadata": {},
   "outputs": [
    {
     "name": "stdout",
     "output_type": "stream",
     "text": [
      "Ten Ciudado, hay un asteroide que se acerca a una gran velocidad!!!\n"
     ]
    }
   ],
   "source": [
    "asteroide = 49\n",
    "if asteroide > 25:\n",
    "    print('Ten Ciudado, hay un asteroide que se acerca a una gran velocidad!!!')\n",
    "else:\n",
    "    print('No hay ningun asteroide peligroso cerca')"
   ]
  },
  {
   "cell_type": "markdown",
   "metadata": {},
   "source": [
    "### Ejercicio II"
   ]
  },
  {
   "cell_type": "markdown",
   "metadata": {},
   "source": [
    "#### Instrucciones:\n",
    "Agrega el código para crear una variable para un asteroide que viaja a 19 km/s.\n",
    "<p></p>\n",
    "Escribe varias expresiones de prueba para determinar si puedes ver el rayo de luz desde la tierra.\n",
    "<p></p>\n",
    "Agrega las instrucciones que se ejecutarán si las expresiones de prueba son True o False."
   ]
  },
  {
   "cell_type": "code",
   "execution_count": 3,
   "metadata": {},
   "outputs": [
    {
     "name": "stdout",
     "output_type": "stream",
     "text": [
      "No hay nada sigue con tu dia\n"
     ]
    }
   ],
   "source": [
    "asteroide = 19\n",
    "if asteroide > 20:\n",
    "    print('Mira un destello en el cielo')\n",
    "elif asteroide == 20:\n",
    "    print('Mira un destello en el cielo')\n",
    "else:\n",
    "    print('No hay nada, sigue con tu dia')"
   ]
  },
  {
   "cell_type": "markdown",
   "metadata": {},
   "source": [
    "### Ejercicio III"
   ]
  },
  {
   "cell_type": "markdown",
   "metadata": {},
   "source": [
    "#### Instrucciones:\n",
    "Agrega el código para crear nuevas variables para la velocidad y el tamaño del asteroide.\n",
    "<p></p>\n",
    "Para probar el código, prueba con varias velocidades y tamaños.\n",
    "<p></p>\n",
    "Escribe varias expresiones de prueba o combinaciones de expresiones de prueba para determinar qué mensaje se debe enviar a Tierra.\n"
   ]
  },
  {
   "cell_type": "code",
   "execution_count": 4,
   "metadata": {},
   "outputs": [
    {
     "name": "stdout",
     "output_type": "stream",
     "text": [
      "Mira un destello en el cielo\n"
     ]
    }
   ],
   "source": [
    "velocidad = 25\n",
    "tamaño = 40\n",
    "if velocidad > 25 and tamaño > 25:\n",
    "    print('Ten Ciudado, un asteroide se dirige hacia la Tierra!!!')\n",
    "elif velocidad >= 20:\n",
    "    print('Mira un destello en el cielo')\n",
    "elif tamaño < 25:\n",
    "    print('No hay nada, sigue con tu dia')\n",
    "else:\n",
    "    print('No hay nada, sigue con tu dia')"
   ]
  }
 ],
 "metadata": {
  "interpreter": {
   "hash": "56b435c5857595d239cc6ea193352b41e48dd60dcf9b18ee2cabfe957593b84b"
  },
  "kernelspec": {
   "display_name": "Python 3.10.2 64-bit",
   "language": "python",
   "name": "python3"
  },
  "language_info": {
   "codemirror_mode": {
    "name": "ipython",
    "version": 3
   },
   "file_extension": ".py",
   "mimetype": "text/x-python",
   "name": "python",
   "nbconvert_exporter": "python",
   "pygments_lexer": "ipython3",
   "version": "3.10.2"
  },
  "orig_nbformat": 4
 },
 "nbformat": 4,
 "nbformat_minor": 2
}
