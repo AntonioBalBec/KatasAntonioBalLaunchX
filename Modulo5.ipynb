{
 "cells": [
  {
   "cell_type": "markdown",
   "metadata": {},
   "source": [
    "# Módulo 5 - Usar operaciones matemáticas"
   ]
  },
  {
   "cell_type": "markdown",
   "metadata": {},
   "source": [
    "## Ejercicio I: Utilizar operadores aritméticos"
   ]
  },
  {
   "cell_type": "markdown",
   "metadata": {},
   "source": [
    "#### Instrucciones: \n",
    "Python proporciona operadores aritméticos comunes para que puedas realizar operaciones matemáticas en tu código. Estos incluyen las cuatro operaciones principales de suma, resta, multiplicación y división.\n",
    "\n",
    "Exploremos cómo podemos crear un programa que pueda calcular la distancia entre dos planetas. Comenzaremos usando dos distancias de planetas: Tierra (149.597.870 km) y Júpiter (778.547.200 km).\n",
    "<p></p>\n",
    "1.Con los valores obtenidos, es el momento de añadir el código para realizar la operación. Restarás el primer planeta del segundo para determinar la distancia en kilómetros. A continuación, puedes convertir la distancia del kilómetro en millas multiplicándola por 0.621.\n",
    "<p></p>\n",
    "2.Con el código creado, ejecuta el notebook para obtener el resultado. Deberías recibir lo siguiente:\n",
    "<p></p>\n",
    "628949330\n",
    "<p></p>\n",
    "390577534\n",
    "<p></p>\n",
    "\n"
   ]
  },
  {
   "cell_type": "code",
   "execution_count": 4,
   "metadata": {},
   "outputs": [
    {
     "name": "stdout",
     "output_type": "stream",
     "text": [
      "Distancia en Km: 628949330\n",
      "Distancia en Mi: 390577533.93\n"
     ]
    }
   ],
   "source": [
    "\n",
    "Pplaneta = 149597870\n",
    "Splaneta = 778547200\n",
    "\n",
    "distanciaKm = Splaneta - Pplaneta\n",
    "print(\"Distancia en Km:\", distanciaKm)\n",
    "\n",
    "distanciami = distanciaKm * 0.621\n",
    "print(\"Distancia en Mi:\",distanciami)"
   ]
  },
  {
   "cell_type": "markdown",
   "metadata": {},
   "source": [
    "## Ejercicio II: Convierte cadenas en números y usa valores absolutos"
   ]
  },
  {
   "cell_type": "markdown",
   "metadata": {},
   "source": [
    "#### Instrucciones: \n",
    "Crear una aplicación para trabajar con números y entrada de usuario\n",
    "Con frecuencia, deberás convertir los valores de cadena en números para realizar correctamente diferentes operaciones o determinar el valor absoluto de un número.\n",
    "Para crear nuestra aplicación, queremos leer la distancia del sol para dos planetas, y luego mostrar la distancia entre los planetas. Haremos esto usando input para leer los valores, int para convertir a entero y luego abs para convertir el resultado en su valor absoluto.\n",
    "<p></p>\n",
    "1. Usando input, agrega el código para leer la distancia del sol para cada planeta, considerando 2 planetas.\n",
    "<p></p>\n",
    "2.Debido a que input devuelve valores de cadena, necesitamos convertirlos en números. Para nuestro ejemplo, usaremos int.\n",
    "<p></p>\n",
    "3.Con los valores almacenados como números, ahora puedes agregar el código para realizar el cálculo, restando el primer planeta del segundo. Debido a que el segundo planeta podría ser un número mayor, usarás abs para convertirlo a un valor absoluto. También agregarás el código para mostrar el resultado en millas multiplicando la distancia del kilómetro por 0.621s\n",
    "<p></p>\n",
    "4.Agregue las instrucciones que se ejecutarán si la expresión de prueba es true o false.\n",
    "<p></p>\n",
    "5.Prueba tu aplicación\n",
    "\n",
    "\n"
   ]
  },
  {
   "cell_type": "code",
   "execution_count": 5,
   "metadata": {},
   "outputs": [
    {
     "name": "stdout",
     "output_type": "stream",
     "text": [
      "Distancia en Km: 42\n",
      "Distancia en Mi: 26.082\n"
     ]
    }
   ],
   "source": [
    "Pplaneta = input('Introduzca la distancia del sol para el primer planeta(KM)')\n",
    "Splaneta = input('Introduzca la distancia del sol para el segundo planeta(KM)')\n",
    "\n",
    "Pplaneta = int(Pplaneta)\n",
    "Splaneta = int(Splaneta)\n",
    "\n",
    "distanciaKm = Splaneta - Pplaneta\n",
    "print(\"Distancia en Km:\", distanciaKm)\n",
    "\n",
    "distanciami = distanciaKm * 0.621\n",
    "print(\"Distancia en Mi:\",distanciami)"
   ]
  }
 ],
 "metadata": {
  "interpreter": {
   "hash": "56b435c5857595d239cc6ea193352b41e48dd60dcf9b18ee2cabfe957593b84b"
  },
  "kernelspec": {
   "display_name": "Python 3.10.2 64-bit",
   "language": "python",
   "name": "python3"
  },
  "language_info": {
   "codemirror_mode": {
    "name": "ipython",
    "version": 3
   },
   "file_extension": ".py",
   "mimetype": "text/x-python",
   "name": "python",
   "nbconvert_exporter": "python",
   "pygments_lexer": "ipython3",
   "version": "3.10.2"
  },
  "orig_nbformat": 4
 },
 "nbformat": 4,
 "nbformat_minor": 2
}
